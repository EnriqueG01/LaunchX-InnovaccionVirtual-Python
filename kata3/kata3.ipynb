{
 "cells": [
  {
   "cell_type": "code",
   "execution_count": 6,
   "metadata": {},
   "outputs": [
    {
     "name": "stdout",
     "output_type": "stream",
     "text": [
      "Advertencia: El asteroide viaja a una velocidad superior a 25km/s\n"
     ]
    }
   ],
   "source": [
    "# Añadir el código necesario para crear una variable que guarde la velocidad del asteroide.\n",
    "# Escribe una expresión de prueba para calcular si necesita una advertencia.\n",
    "# Agregue las instrucciones que se ejecutarán si la expresión de prueba es true o false.\n",
    "\n",
    "vel_limite = 25\n",
    "vel_asteroide = 49\n",
    "if vel_asteroide > vel_limite:\n",
    "    print(\"Advertencia: El asteroide viaja a una velocidad superior a \" + str(vel_limite) + \"km/s\")\n",
    "else:\n",
    "    print(\"Todo en orden\")"
   ]
  },
  {
   "cell_type": "code",
   "execution_count": 4,
   "metadata": {},
   "outputs": [
    {
     "name": "stdout",
     "output_type": "stream",
     "text": [
      "Sigue con tu vida\n"
     ]
    }
   ],
   "source": [
    "# Agrega el código para crear una variable para un asteroide que viaja a 19 km/s\n",
    "# Escribe varias expresiones de prueba para determinar si puedes ver el rayo de luz desde la tierra\n",
    "# Agrega las instrucciones que se ejecutarán si las expresiones de prueba son True o False\n",
    "\n",
    "vel_asteroide = 19\n",
    "if vel_asteroide == 20:\n",
    "    print(\"Busca el asteroide en el cielo!\")\n",
    "elif vel_asteroide > 20:\n",
    "    print(\"Busca el asteroide en el cielo!\")\n",
    "else:\n",
    "    print(\"Sigue con tu vida\")"
   ]
  },
  {
   "cell_type": "code",
   "execution_count": 3,
   "metadata": {},
   "outputs": [
    {
     "name": "stdout",
     "output_type": "stream",
     "text": [
      "Busca el asteroide en el cielo!\n"
     ]
    }
   ],
   "source": [
    "vel_asteroide = 20\n",
    "diametro_asteroide = 10\n",
    "\n",
    "if vel_asteroide > 25 and diametro_asteroide >= 25 and diametro_asteroide < 1000:\n",
    "    print(\"Alerta: Asteroide amenaza la tierra\")\n",
    "elif vel_asteroide >= 20:\n",
    "    print(\"Busca el asteroide en el cielo!\")\n",
    "else:\n",
    "    print(\"Todo en orden\")"
   ]
  }
 ],
 "metadata": {
  "interpreter": {
   "hash": "e91f1eb0af0d805fb84cd31096096d43e2dc737d2b29c819c1aefeae26f10968"
  },
  "kernelspec": {
   "display_name": "Python 3.10.2 64-bit",
   "language": "python",
   "name": "python3"
  },
  "language_info": {
   "codemirror_mode": {
    "name": "ipython",
    "version": 3
   },
   "file_extension": ".py",
   "mimetype": "text/x-python",
   "name": "python",
   "nbconvert_exporter": "python",
   "pygments_lexer": "ipython3",
   "version": "3.10.2"
  },
  "orig_nbformat": 4
 },
 "nbformat": 4,
 "nbformat_minor": 2
}
